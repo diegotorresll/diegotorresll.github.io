{
 "cells": [
  {
   "cell_type": "code",
   "execution_count": 1,
   "metadata": {},
   "outputs": [
    {
     "ename": "ChallengeException",
     "evalue": "CHALLENGE",
     "output_type": "error",
     "traceback": [
      "\u001b[1;31m---------------------------------------------------------------------------\u001b[0m",
      "\u001b[1;31mChallengeException\u001b[0m                        Traceback (most recent call last)",
      "Cell \u001b[1;32mIn[1], line 4\u001b[0m\n\u001b[0;32m      1\u001b[0m \u001b[39mfrom\u001b[39;00m \u001b[39mlinkedin_api\u001b[39;00m \u001b[39mimport\u001b[39;00m Linkedin\n\u001b[0;32m      3\u001b[0m \u001b[39m# Authenticate using any Linkedin account credentials\u001b[39;00m\n\u001b[1;32m----> 4\u001b[0m api \u001b[39m=\u001b[39m Linkedin(\u001b[39m'\u001b[39;49m\u001b[39mditola@gmail.com\u001b[39;49m\u001b[39m'\u001b[39;49m, \u001b[39m'\u001b[39;49m\u001b[39mWoainin21\u001b[39;49m\u001b[39m'\u001b[39;49m)\n\u001b[0;32m      6\u001b[0m \u001b[39m# GET a profile\u001b[39;00m\n\u001b[0;32m      7\u001b[0m profile \u001b[39m=\u001b[39m api\u001b[39m.\u001b[39mget_profile(\u001b[39m'\u001b[39m\u001b[39mdiegotorresll\u001b[39m\u001b[39m'\u001b[39m)\n",
      "File \u001b[1;32mc:\\Python311\\Lib\\site-packages\\linkedin_api\\linkedin.py:85\u001b[0m, in \u001b[0;36mLinkedin.__init__\u001b[1;34m(self, username, password, authenticate, refresh_cookies, debug, proxies, cookies, cookies_dir)\u001b[0m\n\u001b[0;32m     83\u001b[0m     \u001b[39mself\u001b[39m\u001b[39m.\u001b[39mclient\u001b[39m.\u001b[39m_set_session_cookies(cookies)\n\u001b[0;32m     84\u001b[0m \u001b[39melse\u001b[39;00m:\n\u001b[1;32m---> 85\u001b[0m     \u001b[39mself\u001b[39;49m\u001b[39m.\u001b[39;49mclient\u001b[39m.\u001b[39;49mauthenticate(username, password)\n",
      "File \u001b[1;32mc:\\Python311\\Lib\\site-packages\\linkedin_api\\client.py:102\u001b[0m, in \u001b[0;36mClient.authenticate\u001b[1;34m(self, username, password)\u001b[0m\n\u001b[0;32m     99\u001b[0m         \u001b[39mself\u001b[39m\u001b[39m.\u001b[39m_fetch_metadata()\n\u001b[0;32m    100\u001b[0m         \u001b[39mreturn\u001b[39;00m\n\u001b[1;32m--> 102\u001b[0m \u001b[39mself\u001b[39;49m\u001b[39m.\u001b[39;49m_do_authentication_request(username, password)\n\u001b[0;32m    103\u001b[0m \u001b[39mself\u001b[39m\u001b[39m.\u001b[39m_fetch_metadata()\n",
      "File \u001b[1;32mc:\\Python311\\Lib\\site-packages\\linkedin_api\\client.py:162\u001b[0m, in \u001b[0;36mClient._do_authentication_request\u001b[1;34m(self, username, password)\u001b[0m\n\u001b[0;32m    159\u001b[0m data \u001b[39m=\u001b[39m res\u001b[39m.\u001b[39mjson()\n\u001b[0;32m    161\u001b[0m \u001b[39mif\u001b[39;00m data \u001b[39mand\u001b[39;00m data[\u001b[39m\"\u001b[39m\u001b[39mlogin_result\u001b[39m\u001b[39m\"\u001b[39m] \u001b[39m!=\u001b[39m \u001b[39m\"\u001b[39m\u001b[39mPASS\u001b[39m\u001b[39m\"\u001b[39m:\n\u001b[1;32m--> 162\u001b[0m     \u001b[39mraise\u001b[39;00m ChallengeException(data[\u001b[39m\"\u001b[39m\u001b[39mlogin_result\u001b[39m\u001b[39m\"\u001b[39m])\n\u001b[0;32m    164\u001b[0m \u001b[39mif\u001b[39;00m res\u001b[39m.\u001b[39mstatus_code \u001b[39m==\u001b[39m \u001b[39m401\u001b[39m:\n\u001b[0;32m    165\u001b[0m     \u001b[39mraise\u001b[39;00m UnauthorizedException()\n",
      "\u001b[1;31mChallengeException\u001b[0m: CHALLENGE"
     ]
    }
   ],
   "source": [
    "from linkedin_api import Linkedin\n",
    "\n",
    "# Authenticate using any Linkedin account credentials\n",
    "api = Linkedin('ditola@gmail.com', 'Woainin21')\n",
    "\n",
    "# GET a profile\n",
    "profile = api.get_profile('diegotorresll')\n",
    "\n",
    "# GET a profiles contact info\n",
    "contact_info = api.get_profile_contact_info('diegotorresll')\n",
    "\n",
    "# GET 1st degree connections of a given profile\n",
    "connections = api.get_profile_connections('1234asc12304')"
   ]
  }
 ],
 "metadata": {
  "kernelspec": {
   "display_name": "Python 3",
   "language": "python",
   "name": "python3"
  },
  "language_info": {
   "codemirror_mode": {
    "name": "ipython",
    "version": 3
   },
   "file_extension": ".py",
   "mimetype": "text/x-python",
   "name": "python",
   "nbconvert_exporter": "python",
   "pygments_lexer": "ipython3",
   "version": "3.11.0"
  },
  "orig_nbformat": 4
 },
 "nbformat": 4,
 "nbformat_minor": 2
}
