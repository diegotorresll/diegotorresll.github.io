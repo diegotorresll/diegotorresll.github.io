{
 "cells": [
  {
   "cell_type": "code",
   "execution_count": 1,
   "metadata": {},
   "outputs": [
    {
     "name": "stdout",
     "output_type": "stream",
     "text": [
      "{'localizedLastName': 'Torres', 'profilePicture': {'displayImage': 'urn:li:digitalmediaAsset:D4E03AQEmPzKAQIRhpA'}, 'firstName': {'localized': {'es_ES': 'Diego'}, 'preferredLocale': {'country': 'ES', 'language': 'es'}}, 'lastName': {'localized': {'es_ES': 'Torres'}, 'preferredLocale': {'country': 'ES', 'language': 'es'}}, 'id': 'UFk7LJ3v-n', 'localizedFirstName': 'Diego'}\n"
     ]
    }
   ],
   "source": [
    "from linkedin_api.clients.restli.client import RestliClient\n",
    "\n",
    "restli_client = RestliClient()\n",
    "\n",
    "response = restli_client.get(\n",
    "  resource_path=\"/me\",\n",
    "  access_token=\"AQXDpe_P2L9DRuP10TwBgEkRFyc_VVyPiZbavMMdgkktASSzR5Vx8N01ZA6PTYg-wG7oiQhS32ZYdy1A7DPxH0d3WapxHeeIzqA3994ygIGdUJ9fqrWPQpLHWhhNemYjNpfqxOXSiSkh2mxCfNZ9BXqyq50rtdnjAy08sVfkD_Q41kL9OCF2m2EVkzW09r0T4ZRuTINuMDO3pXvZj2YPe2L-pRyRfMYE7zaY6zgqIL_UT837IDYoLa4TlyE8ZKLHkc52MUZh_02_mqr_OIDQsXRpHJbMceEmh3FeFZo1Brg5ttdDd0jixF42YKe557fDawlNVR6hnPnQ4sV1pjS4YoVQnmUbFw\"\n",
    ")\n",
    "print(response.entity)"
   ]
  },
  {
   "cell_type": "code",
   "execution_count": 2,
   "metadata": {},
   "outputs": [
    {
     "name": "stdout",
     "output_type": "stream",
     "text": [
      "{\n",
      " \"localizedLastName\": \"Torres\",\n",
      " \"profilePicture\": {\n",
      "  \"displayImage\": \"urn:li:digitalmediaAsset:D4E03AQEmPzKAQIRhpA\"\n",
      " },\n",
      " \"firstName\": {\n",
      "  \"localized\": {\n",
      "   \"es_ES\": \"Diego\"\n",
      "  },\n",
      "  \"preferredLocale\": {\n",
      "   \"country\": \"ES\",\n",
      "   \"language\": \"es\"\n",
      "  }\n",
      " },\n",
      " \"lastName\": {\n",
      "  \"localized\": {\n",
      "   \"es_ES\": \"Torres\"\n",
      "  },\n",
      "  \"preferredLocale\": {\n",
      "   \"country\": \"ES\",\n",
      "   \"language\": \"es\"\n",
      "  }\n",
      " },\n",
      " \"id\": \"UFk7LJ3v-n\",\n",
      " \"localizedFirstName\": \"Diego\"\n",
      "}\n"
     ]
    }
   ],
   "source": [
    "import json\n",
    "import requests\n",
    "\n",
    "access_token=\"AQXDpe_P2L9DRuP10TwBgEkRFyc_VVyPiZbavMMdgkktASSzR5Vx8N01ZA6PTYg-wG7oiQhS32ZYdy1A7DPxH0d3WapxHeeIzqA3994ygIGdUJ9fqrWPQpLHWhhNemYjNpfqxOXSiSkh2mxCfNZ9BXqyq50rtdnjAy08sVfkD_Q41kL9OCF2m2EVkzW09r0T4ZRuTINuMDO3pXvZj2YPe2L-pRyRfMYE7zaY6zgqIL_UT837IDYoLa4TlyE8ZKLHkc52MUZh_02_mqr_OIDQsXRpHJbMceEmh3FeFZo1Brg5ttdDd0jixF42YKe557fDawlNVR6hnPnQ4sV1pjS4YoVQnmUbFw\"\n",
    "params = {'oauth2_access_token': access_token}\n",
    "response = requests.get('https://api.linkedin.com/v2/me', params = params)\n",
    "\n",
    "print(json.dumps(response.json(), indent=1))"
   ]
  },
  {
   "cell_type": "code",
   "execution_count": 3,
   "metadata": {},
   "outputs": [
    {
     "name": "stdout",
     "output_type": "stream",
     "text": [
      "UFk7LJ3v-n\n"
     ]
    }
   ],
   "source": [
    "headers = {\n",
    "    'Authorization': f'Bearer {access_token}',\n",
    "    'cache-control': 'no-cache',\n",
    "    'X-Restli-Protocol-Version': '2.0.0'  # LinkedIn uses Rest.li protocol\n",
    "}\n",
    "\n",
    "response = requests.get(\n",
    "    'https://api.linkedin.com/v2/me',\n",
    "    headers=headers\n",
    ")\n",
    "\n",
    "print(response.json().get('id'))  # prints the URN ID of the authenticated user\n"
   ]
  }
 ],
 "metadata": {
  "kernelspec": {
   "display_name": "Python 3",
   "language": "python",
   "name": "python3"
  },
  "language_info": {
   "codemirror_mode": {
    "name": "ipython",
    "version": 3
   },
   "file_extension": ".py",
   "mimetype": "text/x-python",
   "name": "python",
   "nbconvert_exporter": "python",
   "pygments_lexer": "ipython3",
   "version": "3.11.0"
  },
  "orig_nbformat": 4
 },
 "nbformat": 4,
 "nbformat_minor": 2
}
